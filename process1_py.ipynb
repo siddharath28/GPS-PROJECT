{
  "nbformat": 4,
  "nbformat_minor": 0,
  "metadata": {
    "colab": {
      "provenance": [],
      "authorship_tag": "ABX9TyO3cjGRaCsDcBT1jjr13S3W",
      "include_colab_link": true
    },
    "kernelspec": {
      "name": "python3",
      "display_name": "Python 3"
    },
    "language_info": {
      "name": "python"
    }
  },
  "cells": [
    {
      "cell_type": "markdown",
      "metadata": {
        "id": "view-in-github",
        "colab_type": "text"
      },
      "source": [
        "<a href=\"https://colab.research.google.com/github/siddharath28/Excel-Sales-Analytics/blob/main/process1_py.ipynb\" target=\"_parent\"><img src=\"https://colab.research.google.com/assets/colab-badge.svg\" alt=\"Open In Colab\"/></a>"
      ]
    },
    {
      "cell_type": "code",
      "execution_count": null,
      "metadata": {
        "id": "O_P-nwvq95F1"
      },
      "outputs": [],
      "source": []
    },
    {
      "cell_type": "code",
      "source": [
        "import pandas as pd\n",
        "from datetime import datetime, timedelta\n",
        "import os\n",
        "\n",
        "def process_gps_data(input_file, output_dir):\n",
        "\n",
        "    df = pd.read_parquet(input_file)\n",
        "\n",
        "\n",
        "    df['timestamp'] = pd.to_datetime(df['timestamp'], format='%Y-%m-%d %H:%M:%S')\n",
        "\n",
        "\n",
        "    df = df.sort_values(by=['unit', 'timestamp'])\n",
        "\n",
        "\n",
        "    for unit, unit_data in df.groupby('unit'):\n",
        "        current_trip_start = unit_data.iloc[0]['timestamp']\n",
        "        current_trip_number = 1\n",
        "\n",
        "\n",
        "        for i in range(1, len(unit_data)):\n",
        "            time_diff = unit_data.iloc[i]['timestamp'] - unit_data.iloc[i - 1]['timestamp']\n",
        "\n",
        "\n",
        "            if time_diff > timedelta(hours=7):\n",
        "\n",
        "                trip_file_name = f\"{unit}_trip_{current_trip_number}.csv\"\n",
        "                trip_file_path = os.path.join(output_dir, trip_file_name)\n",
        "\n",
        "\n",
        "                unit_data.iloc[i - 1].to_frame().T.to_csv(trip_file_path, index=False)\n",
        "\n",
        "\n",
        "                current_trip_start = unit_data.iloc[i]['timestamp']\n",
        "                current_trip_number += 1\n",
        "\n",
        "\n",
        "        trip_file_name = f\"{unit}_trip_{current_trip_number}.csv\"\n",
        "        trip_file_path = os.path.join(output_dir, trip_file_name)\n",
        "        unit_data.iloc[-1].to_frame().T.to_csv(trip_file_path, index=False)\n",
        "\n",
        "if __name__ == \"__main__\":\n",
        "    # Example usage:\n",
        "    input_file = \"raw_data.parquet\"\n",
        "    output_directory = \"output_trips\"\n",
        "\n",
        "\n",
        "    os.makedirs(output_directory, exist_ok=True)\n",
        "\n",
        "    process_gps_data(input_file, output_directory)\n"
      ],
      "metadata": {
        "id": "gMfgeAdxobfY"
      },
      "execution_count": 2,
      "outputs": []
    },
    {
      "cell_type": "code",
      "source": [],
      "metadata": {
        "id": "0-LVHRdd-K6G"
      },
      "execution_count": null,
      "outputs": []
    }
  ]
}